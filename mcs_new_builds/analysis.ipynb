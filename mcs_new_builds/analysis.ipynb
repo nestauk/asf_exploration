{
 "cells": [
  {
   "cell_type": "markdown",
   "id": "903bfc97",
   "metadata": {},
   "source": [
    "### Imports and setup"
   ]
  },
  {
   "cell_type": "code",
   "execution_count": null,
   "id": "0765d477",
   "metadata": {},
   "outputs": [],
   "source": [
    "from asf_core_data import get_mcs_installations, load_preprocessed_epc_data\n",
    "\n",
    "import pandas as pd\n",
    "import numpy as np"
   ]
  },
  {
   "cell_type": "code",
   "execution_count": null,
   "id": "433791b1",
   "metadata": {},
   "outputs": [],
   "source": [
    "# change path to your own local version of EPC data\n",
    "epc_path = \"/Users/chris.williamson/Documents/ASF_data\""
   ]
  },
  {
   "cell_type": "code",
   "execution_count": null,
   "id": "3a0badb9",
   "metadata": {},
   "outputs": [],
   "source": [
    "# Get installation data with each property's entire EPC history attached\n",
    "# meaning that each property might be represented more than once\n",
    "mcs = get_mcs_installations(\"full\")"
   ]
  },
  {
   "cell_type": "code",
   "execution_count": null,
   "id": "5d3b3fdd",
   "metadata": {},
   "outputs": [],
   "source": [
    "# convert date columns to datetime type\n",
    "mcs[\"commission_date\"] = pd.to_datetime(mcs[\"commission_date\"])\n",
    "mcs[\"INSPECTION_DATE\"] = pd.to_datetime(mcs[\"INSPECTION_DATE\"])"
   ]
  },
  {
   "cell_type": "code",
   "execution_count": null,
   "id": "8f7cb395",
   "metadata": {},
   "outputs": [],
   "source": [
    "# merge installation type columns and filter to domestic installations\n",
    "mcs[\"installation_type\"] = mcs[\"installation_type\"].fillna(\n",
    "    mcs[\"end_user_installation_type\"]\n",
    ")\n",
    "mcs = mcs.loc[mcs.installation_type == \"Domestic\"].reset_index(\n",
    "    drop=True\n",
    ")"
   ]
  },
  {
   "cell_type": "markdown",
   "id": "dcd6a436",
   "metadata": {},
   "source": [
    "### What proportion of domestic records in the MCS database relate to new-build installations?"
   ]
  },
  {
   "cell_type": "code",
   "execution_count": null,
   "id": "598a185a",
   "metadata": {},
   "outputs": [],
   "source": [
    "# UPRNs of properties that have an EPC labelled as \"new dwelling\" (not necessarily the first one - see below)\n",
    "new_uprns = [uprn for uprn in mcs.loc[mcs[\"TRANSACTION_TYPE\"] == \"new dwelling\"][\"UPRN\"] if uprn != \"unknown\"]"
   ]
  },
  {
   "cell_type": "code",
   "execution_count": null,
   "id": "1eed72e2",
   "metadata": {},
   "outputs": [],
   "source": [
    "# filter to first records\n",
    "# records not linked to an EPC are kept\n",
    "# note: assumption here is that MCS records not matched to EPC are not new builds\n",
    "# they could still be self-builds (don't need EPC if not selling/renting) but expect not many of these\n",
    "first_records = (\n",
    "    mcs\n",
    "    .sort_values(\"INSPECTION_DATE\")\n",
    "    .groupby(\"original_mcs_index\")\n",
    "    .head(1)\n",
    "    .sort_values(\"original_mcs_index\")\n",
    ")"
   ]
  },
  {
   "cell_type": "code",
   "execution_count": null,
   "id": "3fd6e6b5",
   "metadata": {},
   "outputs": [],
   "source": [
    "# find number of days between first recorded EPC inspection and HP commission\n",
    "# could instead use the first EPC that labels the property as a \"new dwelling\", rather than the first overall - which is best? (see below)\n",
    "first_records[\"diff_epc_to_mcs\"] = (\n",
    "    first_records[\"commission_date\"] - first_records[\"INSPECTION_DATE\"]\n",
    ").dt.days\n",
    "\n",
    "# assume dwelling was built with HP if:\n",
    "# - it has an EPC indicating that it is a new dwelling\n",
    "# - time difference between first EPC inspection and HP installation is less than 1 year\n",
    "# the time difference is arbitrary but means that HP installation needs to happen either before\n",
    "# or within 1 year of the EPC inspection - this is unlikely to happen if the property is\n",
    "# not a new build\n",
    "first_records[\"assumed_hp_when_built\"] = (\n",
    "    first_records[\"UPRN\"].isin(new_uprns)\n",
    ") & (first_records[\"diff_epc_to_mcs\"] < 365)"
   ]
  },
  {
   "cell_type": "markdown",
   "id": "db511f4c",
   "metadata": {},
   "source": [
    "Proportion of domestic MCS installations that relate to new builds:"
   ]
  },
  {
   "cell_type": "code",
   "execution_count": null,
   "id": "1046ea8c",
   "metadata": {},
   "outputs": [],
   "source": [
    "first_records.assumed_hp_when_built.value_counts(normalize=True)"
   ]
  },
  {
   "cell_type": "markdown",
   "id": "6d3d2915",
   "metadata": {},
   "source": [
    "Raw numbers:"
   ]
  },
  {
   "cell_type": "code",
   "execution_count": null,
   "id": "7da4bb08",
   "metadata": {},
   "outputs": [],
   "source": [
    "first_records.assumed_hp_when_built.value_counts()"
   ]
  },
  {
   "cell_type": "markdown",
   "id": "1736a9e7",
   "metadata": {},
   "source": [
    "Top 5 installers of domestic new build installations:"
   ]
  },
  {
   "cell_type": "code",
   "execution_count": null,
   "id": "b296355d",
   "metadata": {},
   "outputs": [],
   "source": [
    "first_records.loc[first_records[\"assumed_hp_when_built\"]][\"installer_name\"].value_counts().head()"
   ]
  },
  {
   "cell_type": "markdown",
   "id": "a284d455",
   "metadata": {},
   "source": [
    "For these top installers, what proportion of their installations are new builds?"
   ]
  },
  {
   "cell_type": "code",
   "execution_count": null,
   "id": "b5470b72",
   "metadata": {},
   "outputs": [],
   "source": [
    "top_5_installers = list(first_records.loc[first_records[\"assumed_hp_when_built\"]][\"installer_name\"].value_counts().head().index)"
   ]
  },
  {
   "cell_type": "code",
   "execution_count": null,
   "id": "92903808",
   "metadata": {},
   "outputs": [],
   "source": [
    "counts = first_records.loc[first_records[\"installer_name\"].isin(top_5_installers)].groupby([\"installer_name\", \"assumed_hp_when_built\"]).size().reset_index().rename(columns={0: \"count\"})\n",
    "\n",
    "counts[\"proportion\"] = counts[\"count\"] / counts.groupby(\"installer_name\")[\"count\"].transform(\"sum\")\n",
    "\n",
    "counts"
   ]
  },
  {
   "cell_type": "markdown",
   "id": "0ff19801",
   "metadata": {},
   "source": [
    "Difference in average costs for domestic retrofits and new builds:"
   ]
  },
  {
   "cell_type": "code",
   "execution_count": null,
   "id": "00eccad5",
   "metadata": {},
   "outputs": [],
   "source": [
    "first_records.groupby(\"assumed_hp_when_built\").cost.mean()"
   ]
  },
  {
   "cell_type": "markdown",
   "id": "66209c56",
   "metadata": {},
   "source": [
    "### What proportion of properties in the EPC database that were built with a HP appear in the MCS database?"
   ]
  },
  {
   "cell_type": "code",
   "execution_count": null,
   "id": "1b216990",
   "metadata": {},
   "outputs": [],
   "source": [
    "epc = load_preprocessed_epc_data(epc_path, version=\"preprocessed\", usecols=[\"UPRN\", \"TRANSACTION_TYPE\", \"INSPECTION_DATE\", \"HP_INSTALLED\"])"
   ]
  },
  {
   "cell_type": "code",
   "execution_count": null,
   "id": "ff42fcb3",
   "metadata": {},
   "outputs": [],
   "source": [
    "# filter to records of new builds with a heat pump\n",
    "new_hp = epc.loc[(epc[\"TRANSACTION_TYPE\"] == \"new dwelling\") & (epc[\"HP_INSTALLED\"])]"
   ]
  },
  {
   "cell_type": "code",
   "execution_count": null,
   "id": "ee28bb86",
   "metadata": {},
   "outputs": [],
   "source": [
    "# replace missing or unknown UPRNs with different codes to avoid them appearing the same in both datasets\n",
    "new_hp[\"UPRN\"] = new_hp[\"UPRN\"].replace(\"unknown\", \"unknown_epc\").fillna(\"unknown_epc\").astype(\"str\")\n",
    "mcs[\"UPRN\"] = mcs[\"UPRN\"].replace(\"unknown\", \"unknown_mcs\").fillna(\"unknown_mcs\").astype(\"str\")"
   ]
  },
  {
   "cell_type": "code",
   "execution_count": null,
   "id": "7a88b273",
   "metadata": {},
   "outputs": [],
   "source": [
    "new_hp[\"in_mcs\"] = new_hp[\"UPRN\"].isin(mcs[\"UPRN\"])"
   ]
  },
  {
   "cell_type": "code",
   "execution_count": null,
   "id": "7f6dedda",
   "metadata": {},
   "outputs": [],
   "source": [
    "new_hp = new_hp.drop_duplicates(\"UPRN\")"
   ]
  },
  {
   "cell_type": "markdown",
   "id": "91031b1a",
   "metadata": {},
   "source": [
    "Proportions of EPC new builds that are in the MCS database:"
   ]
  },
  {
   "cell_type": "code",
   "execution_count": null,
   "id": "2f1b5183",
   "metadata": {},
   "outputs": [],
   "source": [
    "new_hp[\"in_mcs\"].value_counts(normalize=True)"
   ]
  },
  {
   "cell_type": "markdown",
   "id": "8e6ef570",
   "metadata": {},
   "source": [
    "Raw numbers:"
   ]
  },
  {
   "cell_type": "code",
   "execution_count": null,
   "id": "172a7b46",
   "metadata": {},
   "outputs": [],
   "source": [
    "new_hp[\"in_mcs\"].value_counts()"
   ]
  },
  {
   "cell_type": "markdown",
   "id": "b0c34105",
   "metadata": {},
   "source": [
    "Weird that there are more properties identified here than by starting with the MCS dataset - how can this happen?"
   ]
  },
  {
   "cell_type": "code",
   "execution_count": null,
   "id": "f83f69e7",
   "metadata": {},
   "outputs": [],
   "source": [
    "assumed_hp_when_built_uprns = first_records.loc[first_records[\"assumed_hp_when_built\"]][\"UPRN\"]\n",
    "\n",
    "weird = new_hp.loc[(new_hp[\"in_mcs\"]) & (~new_hp[\"UPRN\"].isin(assumed_hp_when_built_uprns))]"
   ]
  },
  {
   "cell_type": "code",
   "execution_count": null,
   "id": "a6725f6f",
   "metadata": {},
   "outputs": [],
   "source": [
    "mcs.loc[mcs[\"UPRN\"].isin(weird[\"UPRN\"])][[\"UPRN\", \"commission_date\", \"TRANSACTION_TYPE\", \"INSPECTION_DATE\"]].sort_values([\"UPRN\", \"INSPECTION_DATE\"]).head(20)"
   ]
  },
  {
   "cell_type": "code",
   "execution_count": null,
   "id": "2fb67abd",
   "metadata": {},
   "outputs": [],
   "source": [
    "epc.loc[epc[\"UPRN\"].isin(weird[\"UPRN\"])].sort_values([\"UPRN\", \"INSPECTION_DATE\"]).head(20)"
   ]
  },
  {
   "cell_type": "markdown",
   "id": "e9120a09",
   "metadata": {},
   "source": [
    "These properties seem to be ones with an EPC certificate that says that the property is a \"new dwelling\" and has a HP and either:\n",
    "* an earlier certificate with inspection date >1 year before the MCS commission date, or\n",
    "* an MCS commission date that is >1 year after the EPC inspection date\n",
    "\n",
    "The former could indicate errors in the EPC dataset (why would a new dwelling have a previous certificate?)\n",
    "\n",
    "The latter could be properties getting their HP replaced or getting a second HP installed, or errors in the MCS dataset."
   ]
  },
  {
   "cell_type": "markdown",
   "id": "b28f6abc",
   "metadata": {},
   "source": [
    "### Side note: How many \"new dwelling\" EPCs have an earlier certificate?"
   ]
  },
  {
   "cell_type": "code",
   "execution_count": null,
   "id": "3330bb2d",
   "metadata": {},
   "outputs": [],
   "source": [
    "epc[\"certificate_n\"] = epc.sort_values(\"INSPECTION_DATE\").groupby(\"UPRN\").cumcount()"
   ]
  },
  {
   "cell_type": "code",
   "execution_count": null,
   "id": "10adcfc3",
   "metadata": {},
   "outputs": [],
   "source": [
    "epc.loc[(epc[\"UPRN\"] != \"unknown\") & (epc[\"TRANSACTION_TYPE\"] == \"new dwelling\")][\"certificate_n\"].value_counts()"
   ]
  },
  {
   "cell_type": "markdown",
   "id": "1d907c9c",
   "metadata": {},
   "source": [
    "Proportion of \"new dwelling\" EPCs that have an earlier certificate:"
   ]
  },
  {
   "cell_type": "code",
   "execution_count": null,
   "id": "6b3e0694",
   "metadata": {},
   "outputs": [],
   "source": [
    "(epc.loc[(epc[\"UPRN\"] != \"unknown\") & (epc[\"TRANSACTION_TYPE\"] == \"new dwelling\")][\"certificate_n\"] >= 1).value_counts(normalize=True)"
   ]
  },
  {
   "cell_type": "markdown",
   "id": "53bdda4e",
   "metadata": {},
   "source": [
    "One extreme example:"
   ]
  },
  {
   "cell_type": "code",
   "execution_count": null,
   "id": "0829ca68",
   "metadata": {},
   "outputs": [],
   "source": [
    "epc.loc[epc[\"certificate_n\"] == 273]"
   ]
  },
  {
   "cell_type": "markdown",
   "id": "67738857",
   "metadata": {},
   "source": [
    "This one property has 300 \"new dwelling\" certificates:"
   ]
  },
  {
   "cell_type": "code",
   "execution_count": null,
   "id": "8d782d2f",
   "metadata": {},
   "outputs": [],
   "source": [
    "epc.loc[(epc[\"UPRN\"] == \"384131\") & (epc[\"TRANSACTION_TYPE\"] == \"new dwelling\")]"
   ]
  },
  {
   "cell_type": "markdown",
   "id": "7af2ecf0",
   "metadata": {},
   "source": [
    "Transaction types of first records for properties with a \"new dwelling\" certificate and an earlier certificate:"
   ]
  },
  {
   "cell_type": "code",
   "execution_count": null,
   "id": "8d2143df",
   "metadata": {},
   "outputs": [],
   "source": [
    "bad_uprns = epc.loc[(epc[\"UPRN\"] != \"unknown\") & (epc[\"TRANSACTION_TYPE\"] == \"new dwelling\") & (epc[\"certificate_n\"] >= 1)][\"UPRN\"]\n",
    "\n",
    "epc.loc[(epc[\"UPRN\"].isin(bad_uprns)) & (epc[\"certificate_n\"] == 0)][\"TRANSACTION_TYPE\"].value_counts(normalize=True)"
   ]
  },
  {
   "cell_type": "markdown",
   "id": "cfe9b328",
   "metadata": {},
   "source": [
    "## Summary: to report to MCS"
   ]
  },
  {
   "cell_type": "markdown",
   "id": "877912d0",
   "metadata": {},
   "source": [
    "* About 11% of domestic installation records in the MCS dataset (up to Q1 2023) relate to new builds (13,420 records).\n",
    "\n",
    "* The biggest installer of new build HPs is ... with ... new build installations, which corresponds to ...% of this installer’s total installations. The second and third biggest installers of new build HPs are ... (... installations / ...%) and ... (... installations / ...%).\n",
    "\n",
    "* The average reported cost of a new build installation is about £840 less than a retrofit (£11,760 compared to £12,600). However note that this could be a result of many other factors such as the date of the installation, physical property characteristics, etc.\n",
    "\n",
    "* About 83% of properties in the EPC dataset which are labelled as being new dwellings with a heat pump are not found in the MCS dataset (89,485 properties).\n",
    "\n",
    "* Some \"new dwellings with a heat pump\" in the EPC dataset appear in the MCS dataset with a commissioning date that is more than 1 year after the EPC inspection date. These could be properties getting their original heat pump replaced or getting a second heat pump installed, but they could also indicate errors in the MCS dataset.\n"
   ]
  },
  {
   "cell_type": "markdown",
   "id": "882fb383",
   "metadata": {},
   "source": []
  }
 ],
 "metadata": {
  "jupytext": {
   "cell_metadata_filter": "-all",
   "custom_cell_magics": "kql",
   "encoding": "# -*- coding: utf-8 -*-"
  },
  "kernelspec": {
   "display_name": "mcs_new_builds",
   "language": "python",
   "name": "mcs_new_builds"
  },
  "language_info": {
   "codemirror_mode": {
    "name": "ipython",
    "version": 3
   },
   "file_extension": ".py",
   "mimetype": "text/x-python",
   "name": "python",
   "nbconvert_exporter": "python",
   "pygments_lexer": "ipython3",
   "version": "3.10.11"
  }
 },
 "nbformat": 4,
 "nbformat_minor": 5
}
