{
 "cells": [
  {
   "cell_type": "markdown",
   "id": "ecfa95b5",
   "metadata": {},
   "source": [
    "## packages imports"
   ]
  },
  {
   "cell_type": "code",
   "execution_count": null,
   "id": "98fc4f2d",
   "metadata": {},
   "outputs": [],
   "source": [
    "import pandas as pd\n",
    "import numpy as np\n",
    "import json"
   ]
  },
  {
   "cell_type": "code",
   "execution_count": null,
   "id": "9b9db71e",
   "metadata": {},
   "outputs": [],
   "source": [
    "import ydata_profiling\n",
    "from ydata_profiling import ProfileReport\n",
    "import great_expectations as gx"
   ]
  },
  {
   "cell_type": "code",
   "execution_count": null,
   "id": "c13cd0d2",
   "metadata": {},
   "outputs": [],
   "source": []
  },
  {
   "cell_type": "code",
   "execution_count": null,
   "id": "201318a2",
   "metadata": {},
   "outputs": [],
   "source": [
    "def save_expectations(expectation_suite, file_name:str):\n",
    "    with open(file_name+\".json\", \"w\") as my_file:\n",
    "        my_file.write(\n",
    "            json.dumps(expectation_suite.to_json_dict(), sort_keys=True, indent=4)\n",
    "        )"
   ]
  },
  {
   "cell_type": "markdown",
   "id": "2ff064a3",
   "metadata": {},
   "source": [
    "## data imports"
   ]
  },
  {
   "cell_type": "code",
   "execution_count": null,
   "id": "9262e769",
   "metadata": {},
   "outputs": [],
   "source": [
    "data = pd.read_csv(\"merged_epc_mcs_installations_installers_230906.csv\")"
   ]
  },
  {
   "cell_type": "code",
   "execution_count": null,
   "id": "8312310a",
   "metadata": {},
   "outputs": [],
   "source": [
    "data.columns"
   ]
  },
  {
   "cell_type": "code",
   "execution_count": null,
   "id": "c4d5599f",
   "metadata": {},
   "outputs": [],
   "source": [
    "data.head()"
   ]
  },
  {
   "cell_type": "code",
   "execution_count": null,
   "id": "21d57f6e",
   "metadata": {},
   "outputs": [],
   "source": [
    "data[\"HP_INSTALLED\"].value_counts(dropna=False)"
   ]
  },
  {
   "cell_type": "code",
   "execution_count": null,
   "id": "80a80417",
   "metadata": {},
   "outputs": [],
   "source": []
  },
  {
   "cell_type": "markdown",
   "id": "c5ceae82",
   "metadata": {},
   "source": [
    "# EXPECTATIONS"
   ]
  },
  {
   "cell_type": "markdown",
   "id": "44da9f71",
   "metadata": {},
   "source": [
    "## 1. Data where HP_INSTALLED is False"
   ]
  },
  {
   "cell_type": "code",
   "execution_count": null,
   "id": "026fa642",
   "metadata": {},
   "outputs": [],
   "source": [
    "no_hp_installed = data[data[\"HP_INSTALLED\"]==False]\n",
    "no_hp_installed = gx.from_pandas(no_hp_installed)"
   ]
  },
  {
   "cell_type": "markdown",
   "id": "6acdda2a",
   "metadata": {},
   "source": [
    "When `HP_INSTALLED` is `False` (there's an EPC but no HP installed):\n",
    "- `MCS_AVAILABLE` should always be `False`\n",
    "- `HP_TYPE` should always be `No HP`"
   ]
  },
  {
   "cell_type": "code",
   "execution_count": null,
   "id": "bc9cb70b",
   "metadata": {},
   "outputs": [],
   "source": [
    "no_hp_installed.expect_column_distinct_values_to_equal_set(column = \"MCS_AVAILABLE\", value_set = [False])[\"success\"]"
   ]
  },
  {
   "cell_type": "code",
   "execution_count": null,
   "id": "afbebbd5",
   "metadata": {},
   "outputs": [],
   "source": [
    "no_hp_installed.expect_column_values_to_not_be_null(column = \"MCS_AVAILABLE\")[\"success\"]"
   ]
  },
  {
   "cell_type": "code",
   "execution_count": null,
   "id": "3ed420f8",
   "metadata": {},
   "outputs": [],
   "source": [
    "no_hp_installed.expect_column_distinct_values_to_equal_set(column = \"HP_TYPE\", value_set = [\"No HP\"])[\"success\"]"
   ]
  },
  {
   "cell_type": "code",
   "execution_count": null,
   "id": "c6016995",
   "metadata": {},
   "outputs": [],
   "source": [
    "no_hp_installed.expect_column_values_to_not_be_null(column = \"HP_TYPE\")[\"success\"]"
   ]
  },
  {
   "cell_type": "code",
   "execution_count": null,
   "id": "1c0821cf",
   "metadata": {},
   "outputs": [],
   "source": [
    "no_hp_installed_expectation_suite = no_hp_installed.get_expectation_suite()"
   ]
  },
  {
   "cell_type": "code",
   "execution_count": null,
   "id": "958ef9e6",
   "metadata": {},
   "outputs": [],
   "source": [
    "save_expectations(no_hp_installed_expectation_suite, \"no_hp_installed_expectation_suite\")"
   ]
  },
  {
   "cell_type": "code",
   "execution_count": null,
   "id": "b62701a5",
   "metadata": {},
   "outputs": [],
   "source": [
    "del no_hp_installed_expectation_suite\n",
    "del no_hp_installed"
   ]
  },
  {
   "cell_type": "code",
   "execution_count": null,
   "id": "b18a991d",
   "metadata": {},
   "outputs": [],
   "source": []
  },
  {
   "cell_type": "markdown",
   "id": "cf8f3556",
   "metadata": {},
   "source": [
    "## 2. Data where HP_INSTALLED is missing"
   ]
  },
  {
   "cell_type": "code",
   "execution_count": null,
   "id": "49e5c171",
   "metadata": {},
   "outputs": [],
   "source": [
    "just_installers = data[pd.isnull(data[\"HP_INSTALLED\"])]\n",
    "just_installers = gx.from_pandas(just_installers)"
   ]
  },
  {
   "cell_type": "code",
   "execution_count": null,
   "id": "8e163dac",
   "metadata": {},
   "outputs": [],
   "source": [
    "just_installers[\"MCS_AVAILABLE\"].unique()"
   ]
  },
  {
   "cell_type": "code",
   "execution_count": null,
   "id": "89fa2d52",
   "metadata": {},
   "outputs": [],
   "source": [
    "just_installers.expect_column_values_to_be_null(column = \"MCS_AVAILABLE\")[\"success\"]"
   ]
  },
  {
   "cell_type": "code",
   "execution_count": null,
   "id": "f1c85c7f",
   "metadata": {},
   "outputs": [],
   "source": [
    "just_installers.expect_column_values_to_be_null(column = \"EPC_AVAILABLE\")[\"success\"]"
   ]
  },
  {
   "cell_type": "code",
   "execution_count": null,
   "id": "fc9b148e",
   "metadata": {},
   "outputs": [],
   "source": [
    "just_installers.expect_column_values_to_be_null(column = \"HP_TYPE\")[\"success\"]"
   ]
  },
  {
   "cell_type": "code",
   "execution_count": null,
   "id": "c55ee884",
   "metadata": {},
   "outputs": [],
   "source": [
    "just_installers_expectation_suite = just_installers.get_expectation_suite()"
   ]
  },
  {
   "cell_type": "code",
   "execution_count": null,
   "id": "1d4e12ae",
   "metadata": {},
   "outputs": [],
   "source": [
    "save_expectations(just_installers_expectation_suite, \"just_installers_expectation_suite\")"
   ]
  },
  {
   "cell_type": "code",
   "execution_count": null,
   "id": "1dd1c2ad",
   "metadata": {},
   "outputs": [],
   "source": [
    "del just_installers_expectation_suite\n",
    "del just_installers"
   ]
  },
  {
   "cell_type": "code",
   "execution_count": null,
   "id": "6b71f175",
   "metadata": {},
   "outputs": [],
   "source": []
  },
  {
   "cell_type": "code",
   "execution_count": null,
   "id": "0eb8e713",
   "metadata": {},
   "outputs": [],
   "source": []
  },
  {
   "cell_type": "markdown",
   "id": "648ab0d8",
   "metadata": {},
   "source": [
    "## 3. Where HP_INSTALLED is True"
   ]
  },
  {
   "cell_type": "code",
   "execution_count": null,
   "id": "fcf67562",
   "metadata": {},
   "outputs": [],
   "source": [
    "hp_data = data[data[\"HP_INSTALLED\"]==True]\n",
    "hp_data = gx.from_pandas(hp_data)"
   ]
  },
  {
   "cell_type": "code",
   "execution_count": null,
   "id": "61a9df39",
   "metadata": {},
   "outputs": [],
   "source": [
    "del data"
   ]
  },
  {
   "cell_type": "code",
   "execution_count": null,
   "id": "49952597",
   "metadata": {},
   "outputs": [],
   "source": []
  },
  {
   "cell_type": "markdown",
   "id": "a9a8df9c",
   "metadata": {},
   "source": [
    "### profile report (helpful to define expectations)"
   ]
  },
  {
   "cell_type": "code",
   "execution_count": null,
   "id": "653a72fc",
   "metadata": {},
   "outputs": [],
   "source": [
    "profile_report = ProfileReport(df=hp_data, title=\"HP data\")"
   ]
  },
  {
   "cell_type": "code",
   "execution_count": null,
   "id": "9add946f",
   "metadata": {
    "scrolled": true
   },
   "outputs": [],
   "source": [
    "profile_report.to_notebook_iframe()"
   ]
  },
  {
   "cell_type": "code",
   "execution_count": null,
   "id": "61cc751e",
   "metadata": {},
   "outputs": [],
   "source": []
  },
  {
   "cell_type": "markdown",
   "id": "2cbb48cd",
   "metadata": {},
   "source": [
    "### Variables we expect: (we have more than these, but not all of them are used in HPMT)"
   ]
  },
  {
   "cell_type": "markdown",
   "id": "95875dff",
   "metadata": {},
   "source": [
    "I've just added the ones in the HPMT workbook:"
   ]
  },
  {
   "cell_type": "code",
   "execution_count": null,
   "id": "472d7afa",
   "metadata": {},
   "outputs": [],
   "source": [
    "hpmt_vars = [\"design\",\n",
    "\"flow_temp\",\n",
    "\"HP_TYPE\",\n",
    "\"capacity\",\n",
    "\"estimated_annual_generation\",\n",
    "\"scop\",\n",
    "\"manufacturer\",\n",
    "\"product_name\",\n",
    "\"HP_INSTALLED\",\n",
    "\"cost\",\n",
    "\"HP_INSTALL_DATE\",\n",
    "\"effective_to\",\n",
    "\"effective_from\",\n",
    "\"latitude\",\n",
    "\"longitude\",\n",
    "\"air_source_hp_certified\",\n",
    "\"exhaust_air_hp_certified\",\n",
    "\"ground_water_source_hp_certified\",\n",
    "\"company_unique_id\",\n",
    "\"company_name\",\n",
    "\"BUILT_FORM\",\n",
    "\"CONSTRUCTION_AGE_BAND\",\n",
    "\"FLOOR_ENERGY_EFF\",\n",
    "\"HOT_WATER_ENERGY_EFF\",\n",
    "\"LIGHTING_ENERGY_EFF\",\n",
    "\"MAINHEAT_ENERGY_EFF\",\n",
    "\"ROOF_ENERGY_EFF\",\n",
    "\"WALLS_ENERGY_EFF\",\n",
    "\"WINDOWS_ENERGY_EFF\",\n",
    "\"CURRENT_ENERGY_RATING\",\n",
    "\"POTENTIAL_ENERGY_RATING\",\n",
    "\"LATITUDE\",\n",
    "\"LONGITUDE\",\n",
    "\"COUNTRY\",\n",
    "\"POSTCODE\",\n",
    "\"GLAZED_AREA\",\n",
    "\"GLAZED_TYPE\",\n",
    "\"HEATING_FUEL\",\n",
    "\"HEATING_SYSTEM\",\n",
    "\"INSPECTION_DATE\",\n",
    "\"MAINS_GAS_FLAG\",\n",
    "\"MCS_AVAILABLE\",\n",
    "\"EPC_AVAILABLE\",\n",
    "\"NUMBER_HABITABLE_ROOMS\",\n",
    "\"PHOTO_SUPPLY\",\n",
    "\"SOLAR_WATER_HEATING_FLAG\",\n",
    "\"TENURE\",\n",
    "\"TOTAL_FLOOR_AREA\",\n",
    "\"PROPERTY_TYPE\",\n",
    "\"UPRN\"]"
   ]
  },
  {
   "cell_type": "code",
   "execution_count": null,
   "id": "6f118463",
   "metadata": {},
   "outputs": [],
   "source": [
    "hp_data.expect_table_columns_to_match_set(hpmt_vars, exact_match=False)[\"success\"]"
   ]
  },
  {
   "cell_type": "code",
   "execution_count": null,
   "id": "36c75682",
   "metadata": {},
   "outputs": [],
   "source": []
  },
  {
   "cell_type": "markdown",
   "id": "d3247fab",
   "metadata": {},
   "source": [
    "### Expected unique values for a variety of variables:"
   ]
  },
  {
   "cell_type": "markdown",
   "id": "ae92f663",
   "metadata": {},
   "source": [
    "`HP_INSTALLED` is always `True`:"
   ]
  },
  {
   "cell_type": "code",
   "execution_count": null,
   "id": "59abbd09",
   "metadata": {},
   "outputs": [],
   "source": [
    "hp_data.expect_column_distinct_values_to_equal_set(column = \"HP_INSTALLED\", value_set = [True])[\"success\"]"
   ]
  },
  {
   "cell_type": "markdown",
   "id": "216a9f9b",
   "metadata": {},
   "source": [
    "`HEATING_SYSTEM` is always `heat pump`:"
   ]
  },
  {
   "cell_type": "code",
   "execution_count": null,
   "id": "bfcda323",
   "metadata": {},
   "outputs": [],
   "source": [
    "hp_data.expect_column_distinct_values_to_equal_set(column = \"HEATING_SYSTEM\", value_set = [\"heat pump\"])[\"success\"]"
   ]
  },
  {
   "cell_type": "markdown",
   "id": "648b5411",
   "metadata": {},
   "source": [
    "`HEATING_FUEL` is always `electric`:"
   ]
  },
  {
   "cell_type": "code",
   "execution_count": null,
   "id": "45345476",
   "metadata": {},
   "outputs": [],
   "source": [
    "hp_data.expect_column_distinct_values_to_equal_set(column = \"HEATING_FUEL\", value_set = [\"electric\"])[\"success\"]"
   ]
  },
  {
   "cell_type": "code",
   "execution_count": null,
   "id": "4da0ca55",
   "metadata": {},
   "outputs": [],
   "source": [
    "hp_data.expect_column_distinct_values_to_equal_set(column = \"MCS_AVAILABLE\", value_set = [True, False])[\"success\"]"
   ]
  },
  {
   "cell_type": "code",
   "execution_count": null,
   "id": "8e8ab352",
   "metadata": {},
   "outputs": [],
   "source": [
    "hp_data.expect_column_distinct_values_to_equal_set(column = \"EPC_AVAILABLE\", value_set = [True, False])[\"success\"]"
   ]
  },
  {
   "cell_type": "code",
   "execution_count": null,
   "id": "403ad361",
   "metadata": {},
   "outputs": [],
   "source": [
    "hp_data.expect_column_distinct_values_to_equal_set(column = \"MAINS_GAS_FLAG\", value_set = [\"N\", \"Y\"])[\"success\"]"
   ]
  },
  {
   "cell_type": "code",
   "execution_count": null,
   "id": "bcaff9db",
   "metadata": {},
   "outputs": [],
   "source": [
    "hp_data.expect_column_distinct_values_to_equal_set(column = \"SOLAR_WATER_HEATING_FLAG\", value_set = [True, False])[\"success\"]"
   ]
  },
  {
   "cell_type": "code",
   "execution_count": null,
   "id": "9504fdb4",
   "metadata": {},
   "outputs": [],
   "source": [
    "for var in [\"CURRENT_ENERGY_RATING\", \"POTENTIAL_ENERGY_RATING\"]:\n",
    "    hp_data.expect_column_distinct_values_to_equal_set(column = var, value_set = [\"A\", \"B\", \"C\", \"D\", \"E\", \"F\", \"G\"])[\"success\"]"
   ]
  },
  {
   "cell_type": "code",
   "execution_count": null,
   "id": "bcb432dd",
   "metadata": {},
   "outputs": [],
   "source": [
    "for var in [\"WALLS_ENERGY_EFF\", \"ROOF_ENERGY_EFF\", \"FLOOR_ENERGY_EFF\", \"WINDOWS_ENERGY_EFF\", \"MAINHEAT_ENERGY_EFF\", \"MAINHEATC_ENERGY_EFF\", \"HOT_WATER_ENERGY_EFF\", \"LIGHTING_ENERGY_EFF\"]:\n",
    "    hp_data.expect_column_distinct_values_to_equal_set(column = var, value_set = ['Very Good', 'Good', 'Average', 'Poor', 'Very Poor'])[\"success\"]"
   ]
  },
  {
   "cell_type": "code",
   "execution_count": null,
   "id": "f4ad25af",
   "metadata": {},
   "outputs": [],
   "source": [
    "hp_data.expect_column_distinct_values_to_equal_set(column = \"CONSTRUCTION_AGE_BAND\", value_set = ['England and Wales: before 1900',\n",
    "                                                                                                  'Scotland: before 1919',\n",
    "                                                                                                  '1900-1929',\n",
    "                                                                                                  '1930-1949',\n",
    "                                                                                                  '1950-1966',\n",
    "                                                                                                  '1965-1975',\n",
    "                                                                                                  '1976-1983',\n",
    "                                                                                                  '1983-1991',\n",
    "                                                                                                  '1991-1998',\n",
    "                                                                                                  '1996-2002',\n",
    "                                                                                                  '2003-2007',\n",
    "                                                                                                  '2007 onwards'])[\"success\"]"
   ]
  },
  {
   "cell_type": "code",
   "execution_count": null,
   "id": "e51878e8",
   "metadata": {},
   "outputs": [],
   "source": [
    "hp_data.expect_column_distinct_values_to_equal_set(column = \"GLAZED_AREA\", value_set = [1,2,3,4,5])[\"success\"]"
   ]
  },
  {
   "cell_type": "code",
   "execution_count": null,
   "id": "df9d4d09",
   "metadata": {},
   "outputs": [],
   "source": [
    "hp_data.expect_column_distinct_values_to_equal_set(column = \"GLAZED_TYPE\", value_set = ['double glazing', 'triple glazing', 'single glazing'])[\"success\"]"
   ]
  },
  {
   "cell_type": "code",
   "execution_count": null,
   "id": "5f81e1a3",
   "metadata": {},
   "outputs": [],
   "source": [
    "hp_data.expect_column_distinct_values_to_equal_set(column = \"TENURE\", value_set = ['rental (private)', 'rental (social)', 'owner-occupied'])[\"success\"]"
   ]
  },
  {
   "cell_type": "code",
   "execution_count": null,
   "id": "b43e900e",
   "metadata": {},
   "outputs": [],
   "source": [
    "hp_data.expect_column_distinct_values_to_equal_set(column = \"BUILT_FORM\", value_set = ['Semi-Detached',\n",
    "                                                                                       'Detached',\n",
    "                                                                                       'Mid-Terrace',\n",
    "                                                                                       'Enclosed Mid-Terrace',\n",
    "                                                                                       'End-Terrace',\n",
    "                                                                                       'Enclosed End-Terrace'])[\"success\"]"
   ]
  },
  {
   "cell_type": "code",
   "execution_count": null,
   "id": "f2399604",
   "metadata": {},
   "outputs": [],
   "source": [
    "hp_data.expect_column_distinct_values_to_equal_set(column = \"PROPERTY_TYPE\", value_set = ['Flat',\n",
    "                                                                                       'House',\n",
    "                                                                                       'Bungalow',\n",
    "                                                                                       'Maisonette',\n",
    "                                                                                       'Park home'])[\"success\"]"
   ]
  },
  {
   "cell_type": "code",
   "execution_count": null,
   "id": "0ecdee8c",
   "metadata": {},
   "outputs": [],
   "source": [
    "hp_data.expect_column_distinct_values_to_equal_set(column = \"COUNTRY\", value_set = ['England', 'Wales', 'Scotland'])[\"success\"]"
   ]
  },
  {
   "cell_type": "code",
   "execution_count": null,
   "id": "33d1c203",
   "metadata": {},
   "outputs": [],
   "source": [
    "hp_data.expect_column_distinct_values_to_equal_set(column = \"HP_TYPE\", value_set = ['Air Source Heat Pump',\n",
    "                                                                                    'Ground/Water Source Heat Pump',\n",
    "                                                                                    'Undefined or Other Heat Pump Type'])[\"success\"]"
   ]
  },
  {
   "cell_type": "code",
   "execution_count": null,
   "id": "6c14fe59",
   "metadata": {},
   "outputs": [],
   "source": [
    "hp_data.expect_column_distinct_values_to_equal_set(column = \"installation_type\", value_set = ['Domestic'])[\"success\"]"
   ]
  },
  {
   "cell_type": "code",
   "execution_count": null,
   "id": "af74bda6",
   "metadata": {},
   "outputs": [],
   "source": [
    "hp_certifified_cols = [col for col in hp_data.columns if col.endswith(\"certified\")]\n",
    "for col in hp_certifified_cols:\n",
    "    hp_data.expect_column_distinct_values_to_equal_set(column = col, value_set = [True, False])[\"success\"]"
   ]
  },
  {
   "cell_type": "code",
   "execution_count": null,
   "id": "89624bd1",
   "metadata": {},
   "outputs": [],
   "source": [
    "hp_data.expect_column_distinct_values_to_equal_set(column = \"design\", value_set = ['Space heat and DHW',\n",
    "                                                                                   'Space heat only',\n",
    "                                                                                   'Space Heat, DHW and another purpose',\n",
    "                                                                                   'DHW only',\n",
    "                                                                                   'DHW and another purpose',\n",
    "                                                                                   'Space Heat and another purpose',\n",
    "                                                                                   'Another purpose only'])[\"success\"]"
   ]
  },
  {
   "cell_type": "code",
   "execution_count": null,
   "id": "9c2b3df1",
   "metadata": {},
   "outputs": [],
   "source": []
  },
  {
   "cell_type": "markdown",
   "id": "2ffff510",
   "metadata": {},
   "source": [
    "### Variables with values in a certain range:"
   ]
  },
  {
   "cell_type": "code",
   "execution_count": null,
   "id": "d7185fa3",
   "metadata": {
    "scrolled": true
   },
   "outputs": [],
   "source": [
    "hp_data.expect_column_values_to_be_between(column = \"NUMBER_HABITABLE_ROOMS\", min_value = 0 , strict_min = False)[\"success\"]"
   ]
  },
  {
   "cell_type": "code",
   "execution_count": null,
   "id": "e9eb6bbc",
   "metadata": {},
   "outputs": [],
   "source": [
    "hp_data.expect_column_values_to_be_between(column = \"NUMBER_HEATED_ROOMS\", min_value = 0 , strict_min = False)[\"success\"]"
   ]
  },
  {
   "cell_type": "code",
   "execution_count": null,
   "id": "feef3d5c",
   "metadata": {},
   "outputs": [],
   "source": [
    "hp_data.expect_column_values_to_be_between(column = \"ENERGY_CONSUMPTION_CURRENT\", min_value = 0 , strict_min = False)[\"success\"]"
   ]
  },
  {
   "cell_type": "code",
   "execution_count": null,
   "id": "c4be71f9",
   "metadata": {},
   "outputs": [],
   "source": [
    "hp_data.expect_column_values_to_be_between(column = \"TOTAL_FLOOR_AREA\", min_value = 0 , strict_min = False)[\"success\"]"
   ]
  },
  {
   "cell_type": "code",
   "execution_count": null,
   "id": "2d1558f5",
   "metadata": {},
   "outputs": [],
   "source": [
    "hp_data.expect_column_values_to_be_between(column = \"CURRENT_ENERGY_EFFICIENCY\", min_value = 0 , strict_min = True)[\"success\"]"
   ]
  },
  {
   "cell_type": "code",
   "execution_count": null,
   "id": "a784d1e8",
   "metadata": {},
   "outputs": [],
   "source": [
    "hp_data.expect_column_values_to_be_between(column = \"PHOTO_SUPPLY\", min_value = 0 , max_value = 100, strict_min = False, strict_max = False)[\"success\"]"
   ]
  },
  {
   "cell_type": "code",
   "execution_count": null,
   "id": "92591a92",
   "metadata": {},
   "outputs": [],
   "source": [
    "hp_data.expect_column_values_to_be_between(column = \"capacity\", min_value = 0, strict_min = False)[\"success\"]"
   ]
  },
  {
   "cell_type": "code",
   "execution_count": null,
   "id": "55c27cfe",
   "metadata": {},
   "outputs": [],
   "source": [
    "hp_data.expect_column_values_to_be_between(column = \"estimated_annual_generation\", min_value = 0, strict_min = False)[\"success\"]"
   ]
  },
  {
   "cell_type": "code",
   "execution_count": null,
   "id": "7279b8a6",
   "metadata": {},
   "outputs": [],
   "source": [
    "hp_data.expect_column_values_to_be_between(column = \"cost\", min_value = 0, strict_min = True)[\"success\"]"
   ]
  },
  {
   "cell_type": "code",
   "execution_count": null,
   "id": "bb1983c0",
   "metadata": {},
   "outputs": [],
   "source": [
    "hp_data.expect_column_values_to_be_between(column = \"flow_temp\", min_value = 0, strict_min = True)[\"success\"]"
   ]
  },
  {
   "cell_type": "code",
   "execution_count": null,
   "id": "a02c5f86",
   "metadata": {},
   "outputs": [],
   "source": [
    "hp_data.expect_column_values_to_be_between(column = \"scop\", min_value = 0, strict_min = True)[\"success\"]"
   ]
  },
  {
   "cell_type": "code",
   "execution_count": null,
   "id": "578c62af",
   "metadata": {},
   "outputs": [],
   "source": []
  },
  {
   "cell_type": "markdown",
   "id": "fe2d7d0a",
   "metadata": {},
   "source": [
    "### Columns with unique values:"
   ]
  },
  {
   "cell_type": "code",
   "execution_count": null,
   "id": "62f0249a",
   "metadata": {},
   "outputs": [],
   "source": [
    "hp_data.expect_column_values_to_be_unique(column=\"UPRN\")[\"success\"]"
   ]
  },
  {
   "cell_type": "markdown",
   "id": "ca83b44a",
   "metadata": {},
   "source": [
    "### Columns with no missing data:"
   ]
  },
  {
   "cell_type": "code",
   "execution_count": null,
   "id": "30180921",
   "metadata": {},
   "outputs": [],
   "source": [
    "hp_data.expect_column_values_to_not_be_null(column = \"HP_INSTALLED\")[\"success\"]"
   ]
  },
  {
   "cell_type": "code",
   "execution_count": null,
   "id": "33b05ce2",
   "metadata": {},
   "outputs": [],
   "source": [
    "hp_data.expect_column_values_to_not_be_null(column = \"HEATING_SYSTEM\")[\"success\"]"
   ]
  },
  {
   "cell_type": "code",
   "execution_count": null,
   "id": "ba61b9e0",
   "metadata": {},
   "outputs": [],
   "source": [
    "hp_data.expect_column_values_to_not_be_null(column = \"HEATING_FUEL\")[\"success\"]"
   ]
  },
  {
   "cell_type": "code",
   "execution_count": null,
   "id": "93b1eaf7",
   "metadata": {},
   "outputs": [],
   "source": [
    "hp_data.expect_column_values_to_not_be_null(column = \"HP_TYPE\")[\"success\"]"
   ]
  },
  {
   "cell_type": "code",
   "execution_count": null,
   "id": "4e326a03",
   "metadata": {},
   "outputs": [],
   "source": [
    "hp_data.expect_column_values_to_not_be_null(column = \"MCS_AVAILABLE\")[\"success\"]"
   ]
  },
  {
   "cell_type": "code",
   "execution_count": null,
   "id": "c7c7e41a",
   "metadata": {},
   "outputs": [],
   "source": [
    "hp_data.expect_column_values_to_not_be_null(column = \"EPC_AVAILABLE\")[\"success\"]"
   ]
  },
  {
   "cell_type": "code",
   "execution_count": null,
   "id": "509cfe9f",
   "metadata": {},
   "outputs": [],
   "source": []
  },
  {
   "cell_type": "markdown",
   "id": "f683d8c8",
   "metadata": {},
   "source": [
    "### Columns with small percentage of missing data:"
   ]
  },
  {
   "cell_type": "code",
   "execution_count": null,
   "id": "ab039eb4",
   "metadata": {},
   "outputs": [],
   "source": [
    "hp_data.expect_column_values_to_not_be_null(column = \"POSTCODE\", mostly = 0.99)[\"success\"]"
   ]
  },
  {
   "cell_type": "code",
   "execution_count": null,
   "id": "03179bdb",
   "metadata": {},
   "outputs": [],
   "source": [
    "hp_data.expect_column_values_to_not_be_null(column = \"HP_INSTALL_DATE\", mostly = 0.99)[\"success\"]"
   ]
  },
  {
   "cell_type": "code",
   "execution_count": null,
   "id": "0e1dd1c6",
   "metadata": {},
   "outputs": [],
   "source": []
  },
  {
   "cell_type": "markdown",
   "id": "1824c251",
   "metadata": {},
   "source": [
    "Missing values for `COUNTRY` are not really missing. The missing come mostly from `MCS_AVAILABLE` data. asf-daps outputs should have as many missing as `POSTCODE` (<0.1%):"
   ]
  },
  {
   "cell_type": "code",
   "execution_count": null,
   "id": "3a5e05ce",
   "metadata": {},
   "outputs": [],
   "source": [
    "hp_data.expect_column_values_to_not_be_null(column = \"COUNTRY\", mostly = 0.99)[\"success\"]"
   ]
  },
  {
   "cell_type": "code",
   "execution_count": null,
   "id": "b6dbd2ec",
   "metadata": {},
   "outputs": [],
   "source": [
    "hp_data[pd.isnull(hp_data[\"COUNTRY\"])][\"MCS_AVAILABLE\"].value_counts()"
   ]
  },
  {
   "cell_type": "code",
   "execution_count": null,
   "id": "01a70633",
   "metadata": {},
   "outputs": [],
   "source": [
    "hp_data[pd.isnull(hp_data[\"COUNTRY\"])][\"EPC_AVAILABLE\"].value_counts()"
   ]
  },
  {
   "cell_type": "code",
   "execution_count": null,
   "id": "99f3ddd2",
   "metadata": {},
   "outputs": [],
   "source": []
  },
  {
   "cell_type": "code",
   "execution_count": null,
   "id": "8d6efeb5",
   "metadata": {},
   "outputs": [],
   "source": [
    "hp_data_expectation_suite = hp_data.get_expectation_suite()"
   ]
  },
  {
   "cell_type": "code",
   "execution_count": null,
   "id": "db225b8c",
   "metadata": {},
   "outputs": [],
   "source": [
    "save_expectations(hp_data_expectation_suite, \"hp_data_expectation_suite\")"
   ]
  },
  {
   "cell_type": "code",
   "execution_count": null,
   "id": "65399971",
   "metadata": {},
   "outputs": [],
   "source": [
    "del hp_data_expectation_suite"
   ]
  },
  {
   "cell_type": "code",
   "execution_count": null,
   "id": "c7388cfd",
   "metadata": {},
   "outputs": [],
   "source": []
  },
  {
   "cell_type": "markdown",
   "id": "02b160e9",
   "metadata": {},
   "source": [
    "## 4. MCS specific checks"
   ]
  },
  {
   "cell_type": "code",
   "execution_count": null,
   "id": "d5bd23f5",
   "metadata": {},
   "outputs": [],
   "source": [
    "mcs_hp_data = hp_data[hp_data[\"MCS_AVAILABLE\"]]"
   ]
  },
  {
   "cell_type": "code",
   "execution_count": null,
   "id": "9083edab",
   "metadata": {},
   "outputs": [],
   "source": []
  },
  {
   "cell_type": "code",
   "execution_count": null,
   "id": "2baf6929",
   "metadata": {},
   "outputs": [],
   "source": [
    "most_mcs_columns = ['capacity',\n",
    "       'estimated_annual_generation', 'installer_name', 'design', 'cost',\n",
    "        'product_name', 'manufacturer','company_unique_id', 'company_name', 'latitude', 'longitude',\n",
    "       'effective_from', 'effective_to', 'air_source_hp_certified',\n",
    "       'ground_water_source_hp_certified', 'exhaust_air_hp_certified']"
   ]
  },
  {
   "cell_type": "code",
   "execution_count": null,
   "id": "4186671c",
   "metadata": {},
   "outputs": [],
   "source": [
    "for col in most_mcs_columns:\n",
    "    mcs_hp_data.expect_column_values_to_not_be_null(column = col, mostly = 0.9)[\"success\"]"
   ]
  },
  {
   "cell_type": "code",
   "execution_count": null,
   "id": "afc1d4e8",
   "metadata": {},
   "outputs": [],
   "source": [
    "for col in ['flow_temp','scop']:\n",
    "    mcs_hp_data.expect_column_values_to_not_be_null(column = col, mostly = 0.84)[\"success\"]"
   ]
  },
  {
   "cell_type": "code",
   "execution_count": null,
   "id": "5c77f6fc",
   "metadata": {},
   "outputs": [],
   "source": [
    "# These are not really \"missing values\" - they correspond to installation type \"Unspecified\"\n",
    "mcs_hp_data.expect_column_values_to_not_be_null(column = 'installation_type', mostly = 0.85)[\"success\"]"
   ]
  },
  {
   "cell_type": "code",
   "execution_count": null,
   "id": "a0801347",
   "metadata": {},
   "outputs": [],
   "source": [
    "mcs_hp_data_expectation_suite = mcs_hp_data.get_expectation_suite()"
   ]
  },
  {
   "cell_type": "code",
   "execution_count": null,
   "id": "33a056b1",
   "metadata": {},
   "outputs": [],
   "source": [
    "save_expectations(mcs_hp_data_expectation_suite, \"mcs_hp_data_expectation_suite\")"
   ]
  },
  {
   "cell_type": "code",
   "execution_count": null,
   "id": "4d71531a",
   "metadata": {},
   "outputs": [],
   "source": [
    "del mcs_hp_data_expectation_suite\n",
    "del mcs_hp_data"
   ]
  },
  {
   "cell_type": "code",
   "execution_count": null,
   "id": "d2ab730e",
   "metadata": {},
   "outputs": [],
   "source": []
  },
  {
   "cell_type": "markdown",
   "id": "bc4a5324",
   "metadata": {},
   "source": [
    "## 5. EPC and MCS specific data checks:\n",
    "\n",
    "Just making sure we don't have missings due to how we're merging the two datasets (if we find a value of 100 that would be the case)."
   ]
  },
  {
   "cell_type": "code",
   "execution_count": null,
   "id": "9cfe7b88",
   "metadata": {},
   "outputs": [],
   "source": [
    "epc_mcs_hp_data = hp_data[hp_data[\"EPC_AVAILABLE\"] & hp_data[\"MCS_AVAILABLE\"]]"
   ]
  },
  {
   "cell_type": "code",
   "execution_count": null,
   "id": "58f10ea9",
   "metadata": {},
   "outputs": [],
   "source": [
    "epc_mcs_percentages = pd.DataFrame(data =epc_mcs_hp_data.isnull().sum()/len(epc_mcs_hp_data)*100)\n",
    "epc_mcs_percentages.columns = [\"percentage\"]"
   ]
  },
  {
   "cell_type": "code",
   "execution_count": null,
   "id": "f0368f4f",
   "metadata": {},
   "outputs": [],
   "source": [
    "epc_mcs_percentages = gx.from_pandas(epc_mcs_percentages)"
   ]
  },
  {
   "cell_type": "code",
   "execution_count": null,
   "id": "91e64d7c",
   "metadata": {},
   "outputs": [],
   "source": [
    "epc_mcs_percentages.expect_column_values_to_be_between(column = \"percentage\", max_value = 90, strict_max = False)[\"success\"]"
   ]
  },
  {
   "cell_type": "code",
   "execution_count": null,
   "id": "3bb6ba2c",
   "metadata": {},
   "outputs": [],
   "source": [
    "mcs_epc_hp_data_expectation_suite = epc_mcs_percentages.get_expectation_suite()"
   ]
  },
  {
   "cell_type": "code",
   "execution_count": null,
   "id": "b310403a",
   "metadata": {},
   "outputs": [],
   "source": [
    "save_expectations(mcs_epc_hp_data_expectation_suite, \"mcs_epc_hp_data_expectation_suite\")"
   ]
  },
  {
   "cell_type": "code",
   "execution_count": null,
   "id": "54623e17",
   "metadata": {},
   "outputs": [],
   "source": [
    "del mcs_epc_hp_data_expectation_suite\n",
    "del epc_mcs_percentages"
   ]
  },
  {
   "cell_type": "code",
   "execution_count": null,
   "id": "cc051fb4",
   "metadata": {},
   "outputs": [],
   "source": []
  },
  {
   "cell_type": "markdown",
   "id": "8e82a04b",
   "metadata": {},
   "source": [
    "## 6. EPC specific data checks:"
   ]
  },
  {
   "cell_type": "code",
   "execution_count": null,
   "id": "b5cfe318",
   "metadata": {},
   "outputs": [],
   "source": [
    "epc_hp_data = hp_data[hp_data[\"EPC_AVAILABLE\"]]"
   ]
  },
  {
   "cell_type": "code",
   "execution_count": null,
   "id": "81ab782f",
   "metadata": {},
   "outputs": [],
   "source": [
    "epc_percentages = pd.DataFrame(epc_hp_data.isnull().sum()/len(epc_hp_data)*100)\n",
    "epc_percentages.columns = [\"percentage\"]"
   ]
  },
  {
   "cell_type": "code",
   "execution_count": null,
   "id": "09bb08f8",
   "metadata": {},
   "outputs": [],
   "source": [
    "epc_percentages = gx.from_pandas(epc_percentages)"
   ]
  },
  {
   "cell_type": "code",
   "execution_count": null,
   "id": "18a92599",
   "metadata": {},
   "outputs": [],
   "source": [
    "epc_percentages.expect_column_values_to_be_between(column = \"percentage\", max_value = 90, strict_max = False)[\"success\"]"
   ]
  },
  {
   "cell_type": "code",
   "execution_count": null,
   "id": "77fa86f6",
   "metadata": {},
   "outputs": [],
   "source": [
    "epc_hp_data_expectation_suite = epc_percentages.get_expectation_suite()"
   ]
  },
  {
   "cell_type": "code",
   "execution_count": null,
   "id": "fbc6d5c1",
   "metadata": {},
   "outputs": [],
   "source": [
    "save_expectations(epc_hp_data_expectation_suite, \"epc_hp_data_expectation_suite\")"
   ]
  },
  {
   "cell_type": "code",
   "execution_count": null,
   "id": "23cefb47",
   "metadata": {},
   "outputs": [],
   "source": [
    "del epc_hp_data_expectation_suite\n",
    "del epc_percentages"
   ]
  },
  {
   "cell_type": "code",
   "execution_count": null,
   "id": "1d851e88",
   "metadata": {},
   "outputs": [],
   "source": []
  },
  {
   "cell_type": "markdown",
   "id": "48d7a9de",
   "metadata": {},
   "source": [
    "## 7. Based on batch data - useful for comparisons between asf_core_data and asf_daps data"
   ]
  },
  {
   "cell_type": "code",
   "execution_count": null,
   "id": "fa925fde",
   "metadata": {},
   "outputs": [],
   "source": [
    "hp_data_asf_daps = hp_data.copy()"
   ]
  },
  {
   "cell_type": "code",
   "execution_count": null,
   "id": "6caaa738",
   "metadata": {},
   "outputs": [],
   "source": [
    "del hp_data"
   ]
  },
  {
   "cell_type": "code",
   "execution_count": null,
   "id": "ef7886e2",
   "metadata": {
    "scrolled": true
   },
   "outputs": [],
   "source": [
    "hp_data_asf_daps.expect_table_row_count_to_equal(value = len(hp_data_asf_daps))[\"success\"]"
   ]
  },
  {
   "cell_type": "code",
   "execution_count": null,
   "id": "750c65d7",
   "metadata": {},
   "outputs": [],
   "source": [
    "for col in [\"UPRN\", \"POSTCODE\", \"HP_INSTALL_DATE\", \"effective_from\", \"effective_to\"]:\n",
    "    hp_data_asf_daps.expect_column_unique_value_count_to_be_between(column = col, min_value = hp_data_asf_daps[col].nunique(),\n",
    "                                                               max_value = hp_data_asf_daps[col].nunique())[\"success\"]"
   ]
  },
  {
   "cell_type": "code",
   "execution_count": null,
   "id": "b566e6aa",
   "metadata": {},
   "outputs": [],
   "source": [
    "for col in [\"TOTAL_FLOOR_AREA\", \"CURRENT_ENERGY_EFFICIENCY\", \"NUMBER_HABITABLE_ROOMS\", \"capacity\",\n",
    "           \"estimated_annual_generation\", \"cost\", \"flow_temp\", \"scop\", \"latitude\", \"longitude\",\n",
    "           \"LATITUDE\", \"LONGITUDE\"]:\n",
    "    hp_data_asf_daps.expect_column_values_to_be_between(column = col, min_value = hp_data_asf_daps[col].nunique(),\n",
    "                                                               max_value = hp_data_asf_daps[col].nunique())[\"success\"]"
   ]
  },
  {
   "cell_type": "code",
   "execution_count": null,
   "id": "8a84d642",
   "metadata": {},
   "outputs": [],
   "source": [
    "hp_data_asf_daps_expectation_suite = hp_data_asf_daps.get_expectation_suite()"
   ]
  },
  {
   "cell_type": "code",
   "execution_count": null,
   "id": "30ea318f",
   "metadata": {},
   "outputs": [],
   "source": [
    "save_expectations(hp_data_asf_daps_expectation_suite, \"hp_data_asf_daps_expectation_suite\")"
   ]
  },
  {
   "cell_type": "code",
   "execution_count": null,
   "id": "f788f370",
   "metadata": {},
   "outputs": [],
   "source": [
    "del hp_data_asf_daps_expectation_suite\n",
    "del hp_data_asf_daps"
   ]
  },
  {
   "cell_type": "code",
   "execution_count": null,
   "id": "48a69c79",
   "metadata": {},
   "outputs": [],
   "source": []
  },
  {
   "cell_type": "code",
   "execution_count": null,
   "id": "7915a113",
   "metadata": {},
   "outputs": [],
   "source": []
  }
 ],
 "metadata": {
  "kernelspec": {
   "display_name": "Python 3 (ipykernel)",
   "language": "python",
   "name": "python3"
  },
  "language_info": {
   "codemirror_mode": {
    "name": "ipython",
    "version": 3
   },
   "file_extension": ".py",
   "mimetype": "text/x-python",
   "name": "python",
   "nbconvert_exporter": "python",
   "pygments_lexer": "ipython3",
   "version": "3.9.12"
  }
 },
 "nbformat": 4,
 "nbformat_minor": 5
}
